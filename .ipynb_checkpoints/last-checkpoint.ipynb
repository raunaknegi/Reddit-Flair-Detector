{
 "cells": [
  {
   "cell_type": "code",
   "execution_count": 1,
   "metadata": {},
   "outputs": [],
   "source": [
    "import pandas as pd\n",
    "import numpy as np\n",
    "import matplotlib.pyplot as plt\n",
    "import pickle\n",
    "\n",
    "df=pd.read_csv('India_posts.csv')\n",
    "df=df.iloc[:,[1,8]]\n",
    "df.dropna(inplace=True)\n",
    "df.reset_index(drop=True, inplace=True)\n",
    "\n",
    "       \n",
    "label_dict={'Politics':0,\n",
    "            'Non-Political':1,\n",
    "            'AskIndia':2,\n",
    "            'Policy/Economy':3,\n",
    "            'Business/Finance':4,\n",
    "            'Science/Technology':5,\n",
    "            'Scheduled':6,\n",
    "            'Sports':7,\n",
    "            'Food':8,\n",
    "            'Photography':9,\n",
    "            'CAA-NRC-NPR':10,\n",
    "            'Coronavirus':11}\n",
    "\n",
    "label_dict_count={'Politics':0,\n",
    "            'Non-Political':0,\n",
    "            'AskIndia':0,\n",
    "            'Policy/Economy':0,\n",
    "            'Business/Finance':0,\n",
    "            'Science/Technology':0,\n",
    "            'Scheduled':0,\n",
    "            'Sports':0,\n",
    "            'Food':0,\n",
    "            'Photography':0,\n",
    "            'CAA-NRC-NPR':0,\n",
    "            'Coronavirus':0}"
   ]
  },
  {
   "cell_type": "code",
   "execution_count": 20,
   "metadata": {},
   "outputs": [
    {
     "data": {
      "text/plain": [
       "'2.2.0'"
      ]
     },
     "execution_count": 20,
     "metadata": {},
     "output_type": "execute_result"
    }
   ],
   "source": [
    "tf.__version__"
   ]
  },
  {
   "cell_type": "code",
   "execution_count": 2,
   "metadata": {},
   "outputs": [],
   "source": [
    "title = df['title'].values\n",
    "y = df['flair'].values"
   ]
  },
  {
   "cell_type": "code",
   "execution_count": 3,
   "metadata": {},
   "outputs": [
    {
     "data": {
      "text/plain": [
       "5536"
      ]
     },
     "execution_count": 3,
     "metadata": {},
     "output_type": "execute_result"
    }
   ],
   "source": [
    "X=[]\n",
    "y_labeled=[]\n",
    "x='CAA'\n",
    "for i in range(len(y)):\n",
    "    if y[i] in label_dict :\n",
    "        y_labeled.append(label_dict[y[i]])\n",
    "        X.append(title[i])    \n",
    "    elif x in y[i]:\n",
    "        y[i]='CAA-NRC-NPR'\n",
    "        y_labeled.append(label_dict[y[i]])\n",
    "        X.append(title[i])\n",
    "\n",
    "for j in range(len(y)):\n",
    "    if y[j] in label_dict:\n",
    "        label_dict_count[y[j]]=label_dict_count[y[j]]+1\n",
    "\n",
    "X=np.array(X,dtype=np.str)\n",
    "\n",
    "len(X)"
   ]
  },
  {
   "cell_type": "code",
   "execution_count": 4,
   "metadata": {},
   "outputs": [
    {
     "name": "stderr",
     "output_type": "stream",
     "text": [
      "[nltk_data] Downloading package stopwords to\n",
      "[nltk_data]     C:\\Users\\Raunak\\AppData\\Roaming\\nltk_data...\n",
      "[nltk_data]   Package stopwords is already up-to-date!\n"
     ]
    }
   ],
   "source": [
    "import re\n",
    "import nltk\n",
    "nltk.download('stopwords')\n",
    "from nltk.corpus import stopwords\n",
    "from nltk.stem.porter import PorterStemmer\n",
    "ps=PorterStemmer()\n",
    "all_posts=[]\n",
    "\n",
    "\n",
    "for i in range(len(X)):\n",
    "    post=re.sub('[^a-zA-Z]',' ',X[i])\n",
    "    post=post.lower()\n",
    "    post=post.split()\n",
    "    post=[ps.stem(word) for word in post if not word in set(stopwords.words('english'))]\n",
    "    post=' '.join(post)\n",
    "    all_posts.append(post)\n"
   ]
  },
  {
   "cell_type": "code",
   "execution_count": null,
   "metadata": {},
   "outputs": [],
   "source": []
  },
  {
   "cell_type": "code",
   "execution_count": 9,
   "metadata": {},
   "outputs": [],
   "source": [
    "from sklearn.feature_extraction.text import TfidfVectorizer\n",
    "\n",
    "tfidf_vectorizer = TfidfVectorizer(ngram_range=(1, 2), \n",
    "                                   min_df = 2, \n",
    "                                   max_df = .95)\n",
    "\n",
    "X = tfidf_vectorizer.fit_transform(all_posts) #features\n",
    "X=X.toarray()"
   ]
  },
  {
   "cell_type": "code",
   "execution_count": 10,
   "metadata": {},
   "outputs": [],
   "source": [
    "def conversion(text):\n",
    "    text=re.sub('[^a-zA-Z]',' ',text)\n",
    "    text=text.lower()\n",
    "    text=text.split()\n",
    "    text=[ps.stem(word) for word in post if not word in set(stopwords.words('english'))]\n",
    "    text=' '.join(post)\n",
    "    text=[text]\n",
    "    text=tfidf_vectorizer.transform(text).toarray()\n",
    "    return text"
   ]
  },
  {
   "cell_type": "code",
   "execution_count": 11,
   "metadata": {},
   "outputs": [],
   "source": [
    "\n",
    "from imblearn.over_sampling import SMOTE\n",
    "from sklearn.model_selection import train_test_split\n",
    "\n",
    "#Train test split with stratified sampling for evaluation\n",
    "X_train, X_test, y_train, y_test = train_test_split(X, \n",
    "                                                    y_labeled, \n",
    "                                                    test_size = .3,\n",
    "                                                    random_state = 0)\n",
    "sm = SMOTE(random_state=0)\n",
    "X_train_res, y_train_res = sm.fit_sample(X_train, y_train)"
   ]
  },
  {
   "cell_type": "code",
   "execution_count": 12,
   "metadata": {},
   "outputs": [
    {
     "data": {
      "text/plain": [
       "7096"
      ]
     },
     "execution_count": 12,
     "metadata": {},
     "output_type": "execute_result"
    }
   ],
   "source": [
    "len(X_test[0])"
   ]
  },
  {
   "cell_type": "code",
   "execution_count": 19,
   "metadata": {},
   "outputs": [
    {
     "name": "stdout",
     "output_type": "stream",
     "text": [
      "WARNING:tensorflow:From C:\\Users\\Raunak\\Anaconda3\\lib\\site-packages\\tensorflow\\python\\compat\\v2_compat.py:96: disable_resource_variables (from tensorflow.python.ops.variable_scope) is deprecated and will be removed in a future version.\n",
      "Instructions for updating:\n",
      "non-resource variables are not supported in the long term\n"
     ]
    }
   ],
   "source": [
    "import keras\n",
    "from keras.layers import Dense,Dropout\n",
    "from keras.models import Sequential\n",
    "from keras import regularizers\n",
    "from keras.layers import Dense, Activation, Dropout\n",
    "y_train_res= keras.utils.to_categorical(y_train_res, 12)\n",
    "y_test= keras.utils.to_categorical(y_test, 12)"
   ]
  },
  {
   "cell_type": "code",
   "execution_count": 14,
   "metadata": {},
   "outputs": [],
   "source": [
    "model = Sequential()\n",
    "model.add(Dense(256, input_shape=(len(X_train_res[0]),),kernel_regularizer=regularizers.l2(0.001)))\n",
    "model.add(Activation('relu'))\n",
    "model.add(Dropout(0.5))\n",
    "model.add(Dense(128,kernel_regularizer=regularizers.l2(0.001)))\n",
    "model.add(Activation('relu'))\n",
    "model.add(Dropout(0.5))\n",
    "model.add(Dense(12))\n",
    "model.add(Activation('softmax'))"
   ]
  },
  {
   "cell_type": "code",
   "execution_count": 15,
   "metadata": {},
   "outputs": [],
   "source": [
    "model.compile(loss='categorical_crossentropy',\n",
    "              optimizer='adam',\n",
    "              metrics=['accuracy'])"
   ]
  },
  {
   "cell_type": "code",
   "execution_count": 16,
   "metadata": {},
   "outputs": [
    {
     "name": "stdout",
     "output_type": "stream",
     "text": [
      "Epoch 1/5\n",
      "14784/14784 [==============================] - 12s 802us/step - loss: 1.4707 - accuracy: 0.6703\n",
      "Epoch 2/5\n",
      "14784/14784 [==============================] - 11s 768us/step - loss: 0.8666 - accuracy: 0.8513\n",
      "Epoch 3/5\n",
      "14784/14784 [==============================] - 12s 812us/step - loss: 0.7842 - accuracy: 0.8837\n",
      "Epoch 4/5\n",
      "14784/14784 [==============================] - 12s 806us/step - loss: 0.7395 - accuracy: 0.9016\n",
      "Epoch 5/5\n",
      "14784/14784 [==============================] - 11s 770us/step - loss: 0.6991 - accuracy: 0.9131\n"
     ]
    },
    {
     "data": {
      "text/plain": [
       "<keras.callbacks.callbacks.History at 0x265589155c8>"
      ]
     },
     "execution_count": 16,
     "metadata": {},
     "output_type": "execute_result"
    }
   ],
   "source": [
    "model.fit(X_train_res, y_train_res,\n",
    "                    batch_size=50,\n",
    "                    epochs=5,\n",
    "                    verbose=1)"
   ]
  },
  {
   "cell_type": "code",
   "execution_count": 12,
   "metadata": {},
   "outputs": [],
   "source": [
    "pickle.dump(model,open('model.pkl','wb'))\n",
    "final_model=pickle.load(open('model.pkl','rb'))"
   ]
  },
  {
   "cell_type": "code",
   "execution_count": null,
   "metadata": {},
   "outputs": [],
   "source": []
  },
  {
   "cell_type": "code",
   "execution_count": null,
   "metadata": {},
   "outputs": [],
   "source": []
  }
 ],
 "metadata": {
  "kernelspec": {
   "display_name": "Python 3",
   "language": "python",
   "name": "python3"
  },
  "language_info": {
   "codemirror_mode": {
    "name": "ipython",
    "version": 3
   },
   "file_extension": ".py",
   "mimetype": "text/x-python",
   "name": "python",
   "nbconvert_exporter": "python",
   "pygments_lexer": "ipython3",
   "version": "3.7.4"
  }
 },
 "nbformat": 4,
 "nbformat_minor": 2
}
