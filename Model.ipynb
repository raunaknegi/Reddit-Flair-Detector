{
 "cells": [
  {
   "cell_type": "code",
   "execution_count": 39,
   "metadata": {},
   "outputs": [
    {
     "name": "stderr",
     "output_type": "stream",
     "text": [
      "[nltk_data] Downloading package stopwords to\n",
      "[nltk_data]     C:\\Users\\Raunak\\AppData\\Roaming\\nltk_data...\n",
      "[nltk_data]   Package stopwords is already up-to-date!\n"
     ]
    }
   ],
   "source": [
    "#importing required libraries\n",
    "import pandas as pd\n",
    "import numpy as np\n",
    "import pickle\n",
    "from sklearn.model_selection import train_test_split\n",
    "from sklearn.naive_bayes import MultinomialNB\n",
    "from sklearn.pipeline import Pipeline\n",
    "from sklearn.feature_extraction.text import TfidfTransformer,CountVectorizer\n",
    "from sklearn.metrics import classification_report,confusion_matrix\n",
    "from sklearn.linear_model import LogisticRegression\n",
    "from sklearn.ensemble import RandomForestClassifier\n",
    "from sklearn.neural_network import MLPClassifier\n",
    "from xgboost import XGBClassifier\n",
    "from gensim import utils\n",
    "import re\n",
    "import nltk\n",
    "nltk.download('stopwords')\n",
    "from nltk.corpus import stopwords\n",
    "from nltk.stem.porter import PorterStemmer"
   ]
  },
  {
   "cell_type": "code",
   "execution_count": 34,
   "metadata": {},
   "outputs": [
    {
     "data": {
      "text/html": [
       "<div>\n",
       "<style scoped>\n",
       "    .dataframe tbody tr th:only-of-type {\n",
       "        vertical-align: middle;\n",
       "    }\n",
       "\n",
       "    .dataframe tbody tr th {\n",
       "        vertical-align: top;\n",
       "    }\n",
       "\n",
       "    .dataframe thead th {\n",
       "        text-align: right;\n",
       "    }\n",
       "</style>\n",
       "<table border=\"1\" class=\"dataframe\">\n",
       "  <thead>\n",
       "    <tr style=\"text-align: right;\">\n",
       "      <th></th>\n",
       "      <th>author</th>\n",
       "      <th>authors</th>\n",
       "      <th>body</th>\n",
       "      <th>comment</th>\n",
       "      <th>comms_num</th>\n",
       "      <th>created</th>\n",
       "      <th>flair</th>\n",
       "      <th>id</th>\n",
       "      <th>score</th>\n",
       "      <th>title</th>\n",
       "      <th>url</th>\n",
       "      <th>combined_features</th>\n",
       "    </tr>\n",
       "  </thead>\n",
       "  <tbody>\n",
       "    <tr>\n",
       "      <td>0</td>\n",
       "      <td>dhavalcoholic</td>\n",
       "      <td>ICICIPruLifeIns</td>\n",
       "      <td>reposting lack activity r askindiahello last y...</td>\n",
       "      <td>dear policy holder dhavalcoholic request help ...</td>\n",
       "      <td>1</td>\n",
       "      <td>1.386254e+09</td>\n",
       "      <td>AskIndia</td>\n",
       "      <td>1s57oi</td>\n",
       "      <td>1</td>\n",
       "      <td>need feedback insurance policy took xpost aski...</td>\n",
       "      <td>https://www.reddit.com/r/india/comments/1s57oi...</td>\n",
       "      <td>need feedback insurance policy took xpost aski...</td>\n",
       "    </tr>\n",
       "    <tr>\n",
       "      <td>1</td>\n",
       "      <td>amitkumarthakur</td>\n",
       "      <td>RAD-Business RAD-Business None barcam10 _snor...</td>\n",
       "      <td>24hrs local police station register case dont ...</td>\n",
       "      <td>calm downgo sp office town file grievance imme...</td>\n",
       "      <td>24</td>\n",
       "      <td>1.554080e+09</td>\n",
       "      <td>AskIndia</td>\n",
       "      <td>b7pvwt</td>\n",
       "      <td>94</td>\n",
       "      <td>somebody want kill full family</td>\n",
       "      <td>https://www.reddit.com/r/india/comments/b7pvwt...</td>\n",
       "      <td>somebody want kill full familycalm downgo sp o...</td>\n",
       "    </tr>\n",
       "    <tr>\n",
       "      <td>2</td>\n",
       "      <td>FrustratedOCIHopeful</td>\n",
       "      <td>plshelpthedog ayyylmaaaoo Proper_Boysenberry ...</td>\n",
       "      <td>hello askindia first time poster long time lur...</td>\n",
       "      <td>honestly supervisor behaved exactly government...</td>\n",
       "      <td>27</td>\n",
       "      <td>1.555361e+09</td>\n",
       "      <td>AskIndia</td>\n",
       "      <td>bdfid1</td>\n",
       "      <td>10</td>\n",
       "      <td>ambassador india takes back newly issued oci c...</td>\n",
       "      <td>https://www.reddit.com/r/india/comments/bdfid1...</td>\n",
       "      <td>ambassador india takes back newly issued oci c...</td>\n",
       "    </tr>\n",
       "    <tr>\n",
       "      <td>3</td>\n",
       "      <td>aloo_vs_bhaloo</td>\n",
       "      <td>vcdarklord tilismilis aloo_vs_bhaloo dogaa fo...</td>\n",
       "      <td>r tooafraidtoask india edition</td>\n",
       "      <td>modi control sex desires jerk someone else pro...</td>\n",
       "      <td>22</td>\n",
       "      <td>1.566529e+09</td>\n",
       "      <td>AskIndia</td>\n",
       "      <td>cu1xn4</td>\n",
       "      <td>18</td>\n",
       "      <td>randians afraid ask</td>\n",
       "      <td>https://www.reddit.com/r/india/comments/cu1xn4...</td>\n",
       "      <td>randians afraid askmodi control sex desires je...</td>\n",
       "    </tr>\n",
       "    <tr>\n",
       "      <td>4</td>\n",
       "      <td>rushils</td>\n",
       "      <td>mrfreeze2000 avneesh_sethi dr_DCTR ocean_of_s...</td>\n",
       "      <td>us must watched viral video indian family stea...</td>\n",
       "      <td>flight going thailand usually trash always fil...</td>\n",
       "      <td>392</td>\n",
       "      <td>1.564537e+09</td>\n",
       "      <td>AskIndia</td>\n",
       "      <td>cjv92h</td>\n",
       "      <td>337</td>\n",
       "      <td>r india whats entitled idiotic indian abroad s...</td>\n",
       "      <td>https://www.reddit.com/r/india/comments/cjv92h...</td>\n",
       "      <td>r india whats entitled idiotic indian abroad s...</td>\n",
       "    </tr>\n",
       "  </tbody>\n",
       "</table>\n",
       "</div>"
      ],
      "text/plain": [
       "                 author                                            authors  \\\n",
       "0         dhavalcoholic                                    ICICIPruLifeIns   \n",
       "1       amitkumarthakur   RAD-Business RAD-Business None barcam10 _snor...   \n",
       "2  FrustratedOCIHopeful   plshelpthedog ayyylmaaaoo Proper_Boysenberry ...   \n",
       "3        aloo_vs_bhaloo   vcdarklord tilismilis aloo_vs_bhaloo dogaa fo...   \n",
       "4               rushils   mrfreeze2000 avneesh_sethi dr_DCTR ocean_of_s...   \n",
       "\n",
       "                                                body  \\\n",
       "0  reposting lack activity r askindiahello last y...   \n",
       "1  24hrs local police station register case dont ...   \n",
       "2  hello askindia first time poster long time lur...   \n",
       "3                     r tooafraidtoask india edition   \n",
       "4  us must watched viral video indian family stea...   \n",
       "\n",
       "                                             comment  comms_num       created  \\\n",
       "0  dear policy holder dhavalcoholic request help ...          1  1.386254e+09   \n",
       "1  calm downgo sp office town file grievance imme...         24  1.554080e+09   \n",
       "2  honestly supervisor behaved exactly government...         27  1.555361e+09   \n",
       "3  modi control sex desires jerk someone else pro...         22  1.566529e+09   \n",
       "4  flight going thailand usually trash always fil...        392  1.564537e+09   \n",
       "\n",
       "      flair      id  score                                              title  \\\n",
       "0  AskIndia  1s57oi      1  need feedback insurance policy took xpost aski...   \n",
       "1  AskIndia  b7pvwt     94                     somebody want kill full family   \n",
       "2  AskIndia  bdfid1     10  ambassador india takes back newly issued oci c...   \n",
       "3  AskIndia  cu1xn4     18                                randians afraid ask   \n",
       "4  AskIndia  cjv92h    337  r india whats entitled idiotic indian abroad s...   \n",
       "\n",
       "                                                 url  \\\n",
       "0  https://www.reddit.com/r/india/comments/1s57oi...   \n",
       "1  https://www.reddit.com/r/india/comments/b7pvwt...   \n",
       "2  https://www.reddit.com/r/india/comments/bdfid1...   \n",
       "3  https://www.reddit.com/r/india/comments/cu1xn4...   \n",
       "4  https://www.reddit.com/r/india/comments/cjv92h...   \n",
       "\n",
       "                                   combined_features  \n",
       "0  need feedback insurance policy took xpost aski...  \n",
       "1  somebody want kill full familycalm downgo sp o...  \n",
       "2  ambassador india takes back newly issued oci c...  \n",
       "3  randians afraid askmodi control sex desires je...  \n",
       "4  r india whats entitled idiotic indian abroad s...  "
      ]
     },
     "execution_count": 34,
     "metadata": {},
     "output_type": "execute_result"
    }
   ],
   "source": [
    "#importing dataset and removing null values\n",
    "df=pd.read_csv('data.csv')\n",
    "df.dropna(inplace=True)\n",
    "df.reset_index(drop=True, inplace=True)\n",
    "df.head()"
   ]
  },
  {
   "cell_type": "code",
   "execution_count": 14,
   "metadata": {},
   "outputs": [
    {
     "data": {
      "text/plain": [
       "AskIndia              186\n",
       "Business/Finance      132\n",
       "AMA                   126\n",
       "Food                   83\n",
       "Sports                 81\n",
       "Non-Political          81\n",
       "Photography            75\n",
       "Scheduled              64\n",
       "Science/Technology     52\n",
       "Politics               37\n",
       "Policy/Economy         32\n",
       "[R]eddiquette          26\n",
       "Name: flair, dtype: int64"
      ]
     },
     "execution_count": 14,
     "metadata": {},
     "output_type": "execute_result"
    }
   ],
   "source": [
    "#checking frequency of each flair\n",
    "df['flair'].value_counts()"
   ]
  },
  {
   "cell_type": "code",
   "execution_count": 65,
   "metadata": {},
   "outputs": [],
   "source": [
    "X=df['title']+df['body']+df['comment']\n",
    "X=X.values\n",
    "y=df['flair'].values"
   ]
  },
  {
   "cell_type": "code",
   "execution_count": 134,
   "metadata": {},
   "outputs": [
    {
     "name": "stderr",
     "output_type": "stream",
     "text": [
      "[nltk_data] Downloading package stopwords to\n",
      "[nltk_data]     C:\\Users\\Raunak\\AppData\\Roaming\\nltk_data...\n",
      "[nltk_data]   Package stopwords is already up-to-date!\n"
     ]
    }
   ],
   "source": [
    "#filtering words and preprocessing them\n",
    "ps=PorterStemmer()\n",
    "all_posts=[]\n",
    "\n",
    "\n",
    "for i in range(len(X)):\n",
    "    post=re.sub('[^a-zA-Z]',' ',X[i])\n",
    "    post=utils.to_unicode(post)\n",
    "    post=post.lower()\n",
    "    post=post.split()\n",
    "    post=[ps.stem(word) for word in post if not word in set(stopwords.words('english'))]\n",
    "    post=' '.join(post)\n",
    "    all_posts.append(post)\n",
    "df['clean_text']=pd.DataFrame(all_posts)"
   ]
  },
  {
   "cell_type": "code",
   "execution_count": 150,
   "metadata": {},
   "outputs": [],
   "source": [
    "#splitting in training and testing data\n",
    "X_train,X_test,y_train,y_test=train_test_split(df.clean_text.values,df.flair.values,test_size=0.3,random_state=42)"
   ]
  },
  {
   "cell_type": "code",
   "execution_count": 151,
   "metadata": {},
   "outputs": [],
   "source": [
    "#logistic regression\n",
    "def logreg_model(X_train,X_test,y_train,y_test):\n",
    "    print('Using Logistic Regression: ')\n",
    "    model=Pipeline([('countvect',CountVectorizer()),\n",
    "                   ('tfidf',TfidfTransformer()),\n",
    "                   ('logistic',LogisticRegression())])\n",
    "    model.fit(X_train,y_train)\n",
    "    y_pred=model.predict(X_test)\n",
    "    print(classification_report(y_test,y_pred))"
   ]
  },
  {
   "cell_type": "code",
   "execution_count": 152,
   "metadata": {},
   "outputs": [],
   "source": [
    "#Naive Bayes\n",
    "def NB_model(X_train,X_Test,y_train,y_test):\n",
    "    print('Using Naive Bayes')\n",
    "    model=Pipeline([('countvect',CountVectorizer()),\n",
    "                   ('tfidf',TfidfTransformer()),\n",
    "                   ('NB',MultinomialNB())])\n",
    "    model.fit(X_train,y_train)\n",
    "    y_pred=model.predict(X_test)\n",
    "    print(classification_report(y_test,y_pred))"
   ]
  },
  {
   "cell_type": "code",
   "execution_count": 153,
   "metadata": {},
   "outputs": [],
   "source": [
    "#Random Forest\n",
    "def RandomForest_model(X_train,X_test,y_train,y_test):\n",
    "    print('Using Random Forest')\n",
    "    model=Pipeline([('countvect',CountVectorizer()),\n",
    "                   ('tfidf',TfidfTransformer()),\n",
    "                   ('RandomForest',RandomForestClassifier(n_estimators=500))])\n",
    "    model.fit(X_train,y_train)\n",
    "    y_pred=model.predict(X_test)\n",
    "    print(classification_report(y_test,y_pred))"
   ]
  },
  {
   "cell_type": "code",
   "execution_count": 154,
   "metadata": {},
   "outputs": [],
   "source": [
    "#Multi Layer Perceptron\n",
    "def MLP_model(X_train,X_test,y_train,y_test):\n",
    "    print('Using Multi Layer Perceptron')\n",
    "    model=Pipeline([('countvect',CountVectorizer()),\n",
    "                   ('tfidf',TfidfTransformer()),\n",
    "                   ('mlp',MLPClassifier(hidden_layer_sizes=(50,50,30)))])\n",
    "    model.fit(X_train,y_train)\n",
    "    y_pred=model.predict(X_test)\n",
    "    print(classification_report(y_test,y_pred))"
   ]
  },
  {
   "cell_type": "code",
   "execution_count": 155,
   "metadata": {},
   "outputs": [
    {
     "name": "stdout",
     "output_type": "stream",
     "text": [
      "Using Logistic Regression: \n",
      "                    precision    recall  f1-score   support\n",
      "\n",
      "               AMA       0.91      0.89      0.90        46\n",
      "          AskIndia       0.56      0.97      0.71        62\n",
      "  Business/Finance       0.77      0.84      0.80        44\n",
      "              Food       0.94      0.89      0.91        18\n",
      "     Non-Political       0.92      0.55      0.69        22\n",
      "       Photography       1.00      0.78      0.88        18\n",
      "    Policy/Economy       0.75      0.33      0.46         9\n",
      "          Politics       1.00      0.20      0.33         5\n",
      "         Scheduled       1.00      0.73      0.85        15\n",
      "Science/Technology       1.00      0.56      0.72        16\n",
      "            Sports       0.96      0.79      0.86        28\n",
      "     [R]eddiquette       1.00      0.10      0.18        10\n",
      "\n",
      "          accuracy                           0.77       293\n",
      "         macro avg       0.90      0.64      0.69       293\n",
      "      weighted avg       0.84      0.77      0.77       293\n",
      "\n",
      "Using Naive Bayes\n"
     ]
    },
    {
     "name": "stderr",
     "output_type": "stream",
     "text": [
      "C:\\Users\\Raunak\\Anaconda3\\lib\\site-packages\\sklearn\\metrics\\_classification.py:1272: UndefinedMetricWarning: Precision and F-score are ill-defined and being set to 0.0 in labels with no predicted samples. Use `zero_division` parameter to control this behavior.\n",
      "  _warn_prf(average, modifier, msg_start, len(result))\n"
     ]
    },
    {
     "name": "stdout",
     "output_type": "stream",
     "text": [
      "                    precision    recall  f1-score   support\n",
      "\n",
      "               AMA       0.96      0.57      0.71        46\n",
      "          AskIndia       0.31      1.00      0.48        62\n",
      "  Business/Finance       0.84      0.82      0.83        44\n",
      "              Food       1.00      0.56      0.71        18\n",
      "     Non-Political       0.00      0.00      0.00        22\n",
      "       Photography       1.00      0.33      0.50        18\n",
      "    Policy/Economy       0.00      0.00      0.00         9\n",
      "          Politics       0.00      0.00      0.00         5\n",
      "         Scheduled       1.00      0.13      0.24        15\n",
      "Science/Technology       0.00      0.00      0.00        16\n",
      "            Sports       1.00      0.25      0.40        28\n",
      "     [R]eddiquette       0.00      0.00      0.00        10\n",
      "\n",
      "          accuracy                           0.51       293\n",
      "         macro avg       0.51      0.30      0.32       293\n",
      "      weighted avg       0.61      0.51      0.46       293\n",
      "\n",
      "Using Random Forest\n",
      "                    precision    recall  f1-score   support\n",
      "\n",
      "               AMA       0.92      0.96      0.94        46\n",
      "          AskIndia       0.89      0.92      0.90        62\n",
      "  Business/Finance       0.89      0.91      0.90        44\n",
      "              Food       1.00      0.94      0.97        18\n",
      "     Non-Political       0.95      0.86      0.90        22\n",
      "       Photography       1.00      0.89      0.94        18\n",
      "    Policy/Economy       0.71      0.56      0.63         9\n",
      "          Politics       1.00      1.00      1.00         5\n",
      "         Scheduled       0.94      1.00      0.97        15\n",
      "Science/Technology       1.00      0.88      0.93        16\n",
      "            Sports       0.90      0.93      0.91        28\n",
      "     [R]eddiquette       0.83      1.00      0.91        10\n",
      "\n",
      "          accuracy                           0.91       293\n",
      "         macro avg       0.92      0.90      0.91       293\n",
      "      weighted avg       0.92      0.91      0.91       293\n",
      "\n",
      "Using Multi Layer Perceptron\n",
      "                    precision    recall  f1-score   support\n",
      "\n",
      "               AMA       0.83      0.83      0.83        46\n",
      "          AskIndia       0.79      0.74      0.77        62\n",
      "  Business/Finance       0.79      0.84      0.81        44\n",
      "              Food       1.00      0.83      0.91        18\n",
      "     Non-Political       0.94      0.68      0.79        22\n",
      "       Photography       0.73      0.89      0.80        18\n",
      "    Policy/Economy       0.71      0.56      0.63         9\n",
      "          Politics       1.00      1.00      1.00         5\n",
      "         Scheduled       0.75      1.00      0.86        15\n",
      "Science/Technology       1.00      0.88      0.93        16\n",
      "            Sports       0.77      0.86      0.81        28\n",
      "     [R]eddiquette       0.83      1.00      0.91        10\n",
      "\n",
      "          accuracy                           0.82       293\n",
      "         macro avg       0.85      0.84      0.84       293\n",
      "      weighted avg       0.83      0.82      0.82       293\n",
      "\n"
     ]
    }
   ],
   "source": [
    "#checking each model \n",
    "models=['logreg','NB','RandomForest','MLP']\n",
    "\n",
    "for model in models:\n",
    "    model_name=eval(model+'_model'+\"(X_train,X_test,y_train,y_test)\")\n",
    "    model_name"
   ]
  },
  {
   "cell_type": "code",
   "execution_count": 156,
   "metadata": {},
   "outputs": [
    {
     "data": {
      "text/plain": [
       "Pipeline(memory=None,\n",
       "         steps=[('countvect',\n",
       "                 CountVectorizer(analyzer='word', binary=False,\n",
       "                                 decode_error='strict',\n",
       "                                 dtype=<class 'numpy.int64'>, encoding='utf-8',\n",
       "                                 input='content', lowercase=True, max_df=1.0,\n",
       "                                 max_features=None, min_df=1,\n",
       "                                 ngram_range=(1, 1), preprocessor=None,\n",
       "                                 stop_words=None, strip_accents=None,\n",
       "                                 token_pattern='(?u)\\\\b\\\\w\\\\w+\\\\b',\n",
       "                                 tokenizer=None, vocabular...\n",
       "                 RandomForestClassifier(bootstrap=True, ccp_alpha=0.0,\n",
       "                                        class_weight=None, criterion='gini',\n",
       "                                        max_depth=None, max_features='auto',\n",
       "                                        max_leaf_nodes=None, max_samples=None,\n",
       "                                        min_impurity_decrease=0.0,\n",
       "                                        min_impurity_split=None,\n",
       "                                        min_samples_leaf=1, min_samples_split=2,\n",
       "                                        min_weight_fraction_leaf=0.0,\n",
       "                                        n_estimators=500, n_jobs=None,\n",
       "                                        oob_score=False, random_state=None,\n",
       "                                        verbose=0, warm_start=False))],\n",
       "         verbose=False)"
      ]
     },
     "execution_count": 156,
     "metadata": {},
     "output_type": "execute_result"
    }
   ],
   "source": [
    "#running random forest(best model)\n",
    "model=Pipeline([('countvect',CountVectorizer()),\n",
    "               ('tfidf',TfidfTransformer()),\n",
    "               ('randomForest',RandomForestClassifier(n_estimators=500))])\n",
    "model.fit(X_train,y_train)"
   ]
  },
  {
   "cell_type": "code",
   "execution_count": 157,
   "metadata": {},
   "outputs": [],
   "source": [
    "#saving random forest \n",
    "pickle.dump(model,open('model.pkl','wb'))"
   ]
  }
 ],
 "metadata": {
  "kernelspec": {
   "display_name": "Python 3",
   "language": "python",
   "name": "python3"
  },
  "language_info": {
   "codemirror_mode": {
    "name": "ipython",
    "version": 3
   },
   "file_extension": ".py",
   "mimetype": "text/x-python",
   "name": "python",
   "nbconvert_exporter": "python",
   "pygments_lexer": "ipython3",
   "version": "3.7.4"
  }
 },
 "nbformat": 4,
 "nbformat_minor": 2
}
